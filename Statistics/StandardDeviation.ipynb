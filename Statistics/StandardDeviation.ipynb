{
 "cells": [
  {
   "cell_type": "markdown",
   "id": "2aea7e21-6b88-4ea8-b947-ca2ffa534e7e",
   "metadata": {},
   "source": [
    "# HOw to find Standered deviation of a data"
   ]
  },
  {
   "cell_type": "markdown",
   "id": "14aeaaf3-7b62-42ff-82fe-688bcf55cc7d",
   "metadata": {},
   "source": [
    "<!--  imort library numpy -->"
   ]
  },
  {
   "cell_type": "code",
   "execution_count": 2,
   "id": "84b70b7a-48be-4d81-8931-712e99b4e2db",
   "metadata": {},
   "outputs": [],
   "source": [
    "# Import library"
   ]
  },
  {
   "cell_type": "code",
   "execution_count": 3,
   "id": "01587226-338a-4128-933e-5a18c3bb52a6",
   "metadata": {},
   "outputs": [
    {
     "name": "stdout",
     "output_type": "stream",
     "text": [
      "[2 3 4 5 6]\n"
     ]
    }
   ],
   "source": [
    "import numpy as np\n",
    "\n",
    "a = np.array([2,3,4,5,6])\n",
    "print(a)"
   ]
  },
  {
   "cell_type": "code",
   "execution_count": 4,
   "id": "ae5532d0-946c-45e3-82b5-2052b3322988",
   "metadata": {},
   "outputs": [],
   "source": [
    "var = np.var(a)"
   ]
  },
  {
   "cell_type": "code",
   "execution_count": 6,
   "id": "e20cbce1-7cd6-4358-97e3-1214c4439bab",
   "metadata": {},
   "outputs": [
    {
     "name": "stdout",
     "output_type": "stream",
     "text": [
      "2.0\n"
     ]
    }
   ],
   "source": [
    "print(var)"
   ]
  },
  {
   "cell_type": "code",
   "execution_count": 7,
   "id": "466de3a4-6c80-431b-9415-313223447a09",
   "metadata": {},
   "outputs": [],
   "source": [
    "# Sample varience "
   ]
  },
  {
   "cell_type": "code",
   "execution_count": 8,
   "id": "c29edbd2-329d-45ef-a8a0-5569b7a20fd6",
   "metadata": {},
   "outputs": [
    {
     "name": "stdout",
     "output_type": "stream",
     "text": [
      "2.5\n"
     ]
    }
   ],
   "source": [
    "samp_var = np.var(a,ddof =1)\n",
    "print(samp_var)"
   ]
  },
  {
   "cell_type": "code",
   "execution_count": 9,
   "id": "bcef47f8-281d-4ffb-9dc7-e4d6ef7cb6f4",
   "metadata": {},
   "outputs": [],
   "source": [
    "# TO find standered deviation use np.std() method of numpy"
   ]
  },
  {
   "cell_type": "code",
   "execution_count": 10,
   "id": "519be301-2b1d-4d8a-80a0-a92691366612",
   "metadata": {},
   "outputs": [],
   "source": [
    "std  = np.std(a)"
   ]
  },
  {
   "cell_type": "code",
   "execution_count": 11,
   "id": "cb5c8a24-13c3-4543-a79b-f64a4b2aae5d",
   "metadata": {},
   "outputs": [
    {
     "name": "stdout",
     "output_type": "stream",
     "text": [
      "1.4142135623730951\n"
     ]
    }
   ],
   "source": [
    "print(std)"
   ]
  },
  {
   "cell_type": "code",
   "execution_count": 12,
   "id": "38f04b54-eb8e-4d1c-9c74-f68aca144c96",
   "metadata": {},
   "outputs": [],
   "source": [
    "# To find sample standered deviation of "
   ]
  },
  {
   "cell_type": "code",
   "execution_count": 13,
   "id": "7090dd8b-233e-459f-8365-6ee211da65cb",
   "metadata": {},
   "outputs": [
    {
     "name": "stdout",
     "output_type": "stream",
     "text": [
      "1.5811388300841898\n"
     ]
    }
   ],
   "source": [
    "samp_std  = np.std(a,ddof =1)\n",
    "print(samp_std)"
   ]
  },
  {
   "cell_type": "code",
   "execution_count": null,
   "id": "d9a48d05-0646-4715-9fd9-4d6c85b44927",
   "metadata": {},
   "outputs": [],
   "source": []
  }
 ],
 "metadata": {
  "kernelspec": {
   "display_name": "Python 3 (ipykernel)",
   "language": "python",
   "name": "python3"
  },
  "language_info": {
   "codemirror_mode": {
    "name": "ipython",
    "version": 3
   },
   "file_extension": ".py",
   "mimetype": "text/x-python",
   "name": "python",
   "nbconvert_exporter": "python",
   "pygments_lexer": "ipython3",
   "version": "3.12.7"
  }
 },
 "nbformat": 4,
 "nbformat_minor": 5
}
