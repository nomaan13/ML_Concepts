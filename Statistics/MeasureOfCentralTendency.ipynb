{
 "cells": [
  {
   "cell_type": "markdown",
   "id": "ef8de795-4256-41ce-9dc1-8e32c9ed4bbd",
   "metadata": {},
   "source": [
    "# How to find Varience of a Data set\n"
   ]
  },
  {
   "cell_type": "code",
   "execution_count": 1,
   "id": "e5bf216c-4185-40a6-9d10-729ca0215dd0",
   "metadata": {},
   "outputs": [],
   "source": [
    "# Import library numpy -- \n"
   ]
  },
  {
   "cell_type": "code",
   "execution_count": 2,
   "id": "60f61113-895f-4760-8acb-e6d8b1c60b80",
   "metadata": {},
   "outputs": [],
   "source": [
    "import numpy as np\n"
   ]
  },
  {
   "cell_type": "code",
   "execution_count": 3,
   "id": "91afc31a-be4a-4471-99a0-9b12aa5c4498",
   "metadata": {},
   "outputs": [],
   "source": [
    "# Create a array for data (Create a dataset)"
   ]
  },
  {
   "cell_type": "code",
   "execution_count": 4,
   "id": "394325ac-5f1b-4519-a502-382012d0f7e4",
   "metadata": {},
   "outputs": [],
   "source": [
    "a = np.array([2,3,4,5,6])"
   ]
  },
  {
   "cell_type": "code",
   "execution_count": 5,
   "id": "c6aa0033-a09e-4984-b5a3-d92f244a09c1",
   "metadata": {},
   "outputs": [
    {
     "name": "stdout",
     "output_type": "stream",
     "text": [
      "[2 3 4 5 6]\n"
     ]
    }
   ],
   "source": [
    "print(a)"
   ]
  },
  {
   "cell_type": "code",
   "execution_count": 6,
   "id": "2baeb9fa-f2b8-4682-bda6-252f27f63001",
   "metadata": {},
   "outputs": [],
   "source": [
    "# Calculate the mean "
   ]
  },
  {
   "cell_type": "code",
   "execution_count": 7,
   "id": "b59a5750-b113-48c7-8bd2-1758029b3c10",
   "metadata": {},
   "outputs": [],
   "source": [
    "a_mean = np.mean(a)"
   ]
  },
  {
   "cell_type": "code",
   "execution_count": 8,
   "id": "5be962b2-df70-4f6b-b762-34807b0633f8",
   "metadata": {},
   "outputs": [
    {
     "name": "stdout",
     "output_type": "stream",
     "text": [
      "4.0\n"
     ]
    }
   ],
   "source": [
    "print(a_mean)"
   ]
  },
  {
   "cell_type": "code",
   "execution_count": 9,
   "id": "88e5b2f5-3647-4529-af26-d431ef7f8416",
   "metadata": {},
   "outputs": [],
   "source": [
    "# Use the method np.var to calculate the varience of data"
   ]
  },
  {
   "cell_type": "code",
   "execution_count": 10,
   "id": "d01853d0-131a-420e-abd7-af38a142474e",
   "metadata": {},
   "outputs": [],
   "source": [
    "var = np.var(a)"
   ]
  },
  {
   "cell_type": "code",
   "execution_count": 11,
   "id": "8efb4599-6ad8-4359-9c85-d4d58cf158d0",
   "metadata": {},
   "outputs": [
    {
     "name": "stdout",
     "output_type": "stream",
     "text": [
      "2.0\n"
     ]
    }
   ],
   "source": [
    "print(var)"
   ]
  },
  {
   "cell_type": "code",
   "execution_count": 13,
   "id": "7b562d48-ff8a-4ce4-a20c-048bdd74cc5b",
   "metadata": {},
   "outputs": [],
   "source": [
    "# add degree of fredom to calculate varience of sample"
   ]
  },
  {
   "cell_type": "code",
   "execution_count": 14,
   "id": "854f3f31-a2b3-4f5e-ae09-b87045b33f56",
   "metadata": {},
   "outputs": [
    {
     "name": "stdout",
     "output_type": "stream",
     "text": [
      "2.5\n"
     ]
    }
   ],
   "source": [
    "var = np.var(a,ddof=1)\n",
    "print(var)"
   ]
  },
  {
   "cell_type": "code",
   "execution_count": null,
   "id": "f7576081-84aa-48bf-b68d-099e3d88807e",
   "metadata": {},
   "outputs": [],
   "source": []
  }
 ],
 "metadata": {
  "kernelspec": {
   "display_name": "Python 3 (ipykernel)",
   "language": "python",
   "name": "python3"
  },
  "language_info": {
   "codemirror_mode": {
    "name": "ipython",
    "version": 3
   },
   "file_extension": ".py",
   "mimetype": "text/x-python",
   "name": "python",
   "nbconvert_exporter": "python",
   "pygments_lexer": "ipython3",
   "version": "3.12.7"
  }
 },
 "nbformat": 4,
 "nbformat_minor": 5
}
